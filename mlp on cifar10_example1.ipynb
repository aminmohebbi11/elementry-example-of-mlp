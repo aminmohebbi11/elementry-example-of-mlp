{
 "cells": [
  {
   "cell_type": "markdown",
   "id": "2c3fde02",
   "metadata": {},
   "source": [
    "# An elementary MPL example using Sequential layers"
   ]
  },
  {
   "cell_type": "markdown",
   "id": "38f2861a",
   "metadata": {},
   "source": [
    "In this Notebook, I'll provide an elementary example of how to use the MPL network with Sequential layers. Specifically, I utilized the cifar10 dataset, which consists of 50,000 32x32 color training images and 10,000 test images, categorized into 10 classes. For additional information on the dataset, please visit the CIFAR homepage. \n",
    "\n",
    "Although it's a small dataset, it provides ample opportunities to experiment with various models, techniques, and approaches."
   ]
  },
  {
   "cell_type": "markdown",
   "id": "f7ac829e",
   "metadata": {},
   "source": [
    "# Import Libraries"
   ]
  },
  {
   "cell_type": "code",
   "execution_count": 32,
   "id": "bf46fb70",
   "metadata": {},
   "outputs": [],
   "source": [
    "import matplotlib.pyplot as plt\n",
    "import numpy as np\n",
    "import pandas as  pd\n",
    "import tensorflow as tf\n",
    "from tensorflow.keras.models import Sequential"
   ]
  },
  {
   "cell_type": "code",
   "execution_count": 33,
   "id": "7461daf9",
   "metadata": {},
   "outputs": [],
   "source": [
    "# Since the dataset CIFAR10 & 100 are not default, we need to load them did not loaded as a default\n",
    "import ssl\n",
    "ssl._create_default_https_context = ssl._create_unverified_context"
   ]
  },
  {
   "cell_type": "code",
   "execution_count": 34,
   "id": "32e580b5",
   "metadata": {},
   "outputs": [],
   "source": [
    "cifar10_data = tf.keras.datasets.cifar10"
   ]
  },
  {
   "cell_type": "markdown",
   "id": "d029e0d7",
   "metadata": {},
   "source": [
    "Loads the CIFAR10 dataset.\n",
    "\n",
    "This is a dataset of 50,000 32x32 color training images and 10,000 test\n",
    "images, labeled over 10 categories. See more info at the\n",
    "[CIFAR homepage](https://www.cs.toronto.edu/~kriz/cifar.html).\n",
    "\n",
    "The classes are:\n",
    "\n",
    "| Label | Description |\n",
    "|:-----:|-------------|\n",
    "|   0   | airplane    |\n",
    "|   1   | automobile  |\n",
    "|   2   | bird        |\n",
    "|   3   | cat         |\n",
    "|   4   | deer        |\n",
    "|   5   | dog         |\n",
    "|   6   | frog        |\n",
    "|   7   | horse       |\n",
    "|   8   | ship        |\n",
    "|   9   | truck       |\n",
    "\n",
    "Returns:\n",
    "  Tuple of NumPy arrays: `(x_train, y_train), (x_test, y_test)`.\n",
    "\n",
    "**x_train**: uint8 NumPy array of grayscale image data with shapes\n",
    "  `(50000, 32, 32, 3)`, containing the training data. Pixel values range\n",
    "  from 0 to 255.\n",
    "\n",
    "**y_train**: uint8 NumPy array of labels (integers in range 0-9)\n",
    "  with shape `(50000, 1)` for the training data.\n",
    "\n",
    "**x_test**: uint8 NumPy array of grayscale image data with shapes\n",
    "  `(10000, 32, 32, 3)`, containing the test data. Pixel values range\n",
    "  from 0 to 255.\n",
    "\n",
    "**y_test**: uint8 NumPy array of labels (integers in range 0-9)\n",
    "  with shape `(10000, 1)` for the test data.\n",
    "\n",
    "Example:\n",
    "\n",
    "```python\n",
    "(x_train, y_train), (x_test, y_test) = keras.datasets.cifar10.load_data()\n",
    "\n",
    "assert x_train.shape == (50000, 32, 32, 3)\n",
    "\n",
    "assert x_test.shape == (10000, 32, 32, 3)\n",
    "\n",
    "assert y_train.shape == (50000, 1)\n",
    "\n",
    "assert y_test.shape == (10000, 1)"
   ]
  },
  {
   "cell_type": "code",
   "execution_count": 35,
   "id": "44f2348d",
   "metadata": {},
   "outputs": [],
   "source": [
    "(x_train, y_train), (x_test, y_test) = cifar10_data.load_data() #Load cifar10 data"
   ]
  },
  {
   "cell_type": "code",
   "execution_count": 36,
   "id": "51e4bfcb",
   "metadata": {},
   "outputs": [
    {
     "data": {
      "text/plain": [
       "(50000, 32, 32, 3)"
      ]
     },
     "execution_count": 36,
     "metadata": {},
     "output_type": "execute_result"
    }
   ],
   "source": [
    "x_train.shape #check the shape of x_train"
   ]
  },
  {
   "cell_type": "code",
   "execution_count": 37,
   "id": "e1915edf",
   "metadata": {},
   "outputs": [
    {
     "data": {
      "text/plain": [
       "(50000, 1)"
      ]
     },
     "execution_count": 37,
     "metadata": {},
     "output_type": "execute_result"
    }
   ],
   "source": [
    "y_train.shape # check the shape ofy_train"
   ]
  },
  {
   "cell_type": "code",
   "execution_count": 38,
   "id": "cbe6aa6a",
   "metadata": {},
   "outputs": [],
   "source": [
    "# Create  a list of labels\n",
    "labels = [\n",
    "    'airplane', \n",
    "    'automobile',\n",
    "    'bird',\n",
    "    'cat',\n",
    "    'deer',\n",
    "    'dog',\n",
    "    'frog', \n",
    "    'horse',\n",
    "    'ship',\n",
    "    'truck' ]"
   ]
  },
  {
   "cell_type": "code",
   "execution_count": 39,
   "id": "0b161289",
   "metadata": {},
   "outputs": [],
   "source": [
    "# Normalization of the data\n",
    "train_images = x_train /255.\n",
    "test_images = x_test / 255.\n",
    "#y_train = y_train /255.\n",
    "#y_test= y_test/255.\n"
   ]
  },
  {
   "cell_type": "code",
   "execution_count": 40,
   "id": "21a40b99",
   "metadata": {},
   "outputs": [
    {
     "data": {
      "image/png": "[encoded data removed]",
      "text/plain": [
       "<Figure size 432x288 with 1 Axes>"
      ]
     },
     "metadata": {
      "needs_background": "light"
     },
     "output_type": "display_data"
    },
    {
     "name": "stdout",
     "output_type": "stream",
     "text": [
      "Digit: 2 , lebel: bird\n"
     ]
    }
   ],
   "source": [
    "# Here we give an example. In this example we want to see image, label and the anme of the given image.\n",
    "\n",
    "# Let image number 120\n",
    "idx = 120\n",
    "tmp_image , tmp_image_digit , tmp_image_label = train_images[idx,...,1] , y_train[idx,0], labels[y_train[idx ,0]]#this is anindex for y_train\n",
    "#to slove the above porblem we used labels[y_train[idx ,0]] INSTED OF labels[y_train[idx ]]\n",
    "#i used here  y_train[idx,0] insted of  y_train[idx] to show the digit as a number not an array\n",
    "plt.imshow(tmp_image , cmap= 'gray')\n",
    "plt.show()\n",
    "\n",
    "print(f'Digit: {tmp_image_digit} , lebel: {tmp_image_label}')"
   ]
  },
  {
   "cell_type": "code",
   "execution_count": 41,
   "id": "25880d90",
   "metadata": {},
   "outputs": [],
   "source": [
    "#we biuld a model with a few Sequential layers\n",
    "model = tf.keras.models.Sequential([\n",
    "    tf.keras.layers.Flatten(input_shape =(32,32,3) , name = 'Flatten_layer' ), #here unroll the tensor (32,32,3) to a vector\n",
    "    tf.keras.layers.Dense(236 , activation = 'relu' , name = 'Hidden_layer_1' ),\n",
    "    tf.keras.layers.Dense(10 , activation = 'softmax' , name = \"Output_layer\"),\n",
    "    # since we have 10 classes, we are using softmax. Note that we have 10 classes (10 labels) \n",
    "], name = \"first_model\")\n"
   ]
  },
  {
   "cell_type": "code",
   "execution_count": 42,
   "id": "47fa2cd4",
   "metadata": {},
   "outputs": [],
   "source": [
    "# Here we set sigmoid activation function for the 'hiddenlayer1'\n",
    "#model = tf.keras.models.Sequential([\n",
    "   # tf.keras.layers.Flatten(input_shape =(32,32,3), name = \"flatten layer\" ), #this will unroll the tensor (32,32,3) to a vector\n",
    "   # tf.keras.layers.Dense(14 , activation = 'sigmoid' , name = \"hidden layer1\" ),\n",
    "   # tf.keras.layers.Dense(10 , activation = 'softmax' , name = \"output layer\"), #for the last layer we need 10 neuron since we have 10 class\n",
    "#], name = \"second_model\")"
   ]
  },
  {
   "cell_type": "code",
   "execution_count": 43,
   "id": "93895a6f",
   "metadata": {},
   "outputs": [
    {
     "data": {
      "text/plain": [
       "<tf.Variable 'Hidden_layer_1/kernel:0' shape=(3072, 236) dtype=float32, numpy=\n",
       "array([[ 0.02067453,  0.0094359 ,  0.02902918, ..., -0.01507656,\n",
       "        -0.03791426,  0.03234905],\n",
       "       [ 0.0230289 ,  0.00158523, -0.04046752, ...,  0.00676557,\n",
       "         0.02446793, -0.00966154],\n",
       "       [ 0.03147763,  0.03890682,  0.00530438, ..., -0.00535917,\n",
       "        -0.03088421,  0.02243235],\n",
       "       ...,\n",
       "       [ 0.03985554, -0.03522573,  0.03067303, ..., -0.01662803,\n",
       "         0.03116779, -0.00096222],\n",
       "       [-0.02730435,  0.03535597,  0.02405221, ..., -0.02659239,\n",
       "         0.0324361 ,  0.00015246],\n",
       "       [ 0.02107452,  0.03971438,  0.02675223, ..., -0.01217443,\n",
       "        -0.02009217,  0.04164255]], dtype=float32)>"
      ]
     },
     "execution_count": 43,
     "metadata": {},
     "output_type": "execute_result"
    }
   ],
   "source": [
    "model.weights[0] # the weights of the first_model"
   ]
  },
  {
   "cell_type": "code",
   "execution_count": 44,
   "id": "f4e99762",
   "metadata": {},
   "outputs": [
    {
     "data": {
      "text/plain": [
       "<tf.Variable 'Hidden_layer_1/bias:0' shape=(236,) dtype=float32, numpy=\n",
       "array([0., 0., 0., 0., 0., 0., 0., 0., 0., 0., 0., 0., 0., 0., 0., 0., 0.,\n",
       "       0., 0., 0., 0., 0., 0., 0., 0., 0., 0., 0., 0., 0., 0., 0., 0., 0.,\n",
       "       0., 0., 0., 0., 0., 0., 0., 0., 0., 0., 0., 0., 0., 0., 0., 0., 0.,\n",
       "       0., 0., 0., 0., 0., 0., 0., 0., 0., 0., 0., 0., 0., 0., 0., 0., 0.,\n",
       "       0., 0., 0., 0., 0., 0., 0., 0., 0., 0., 0., 0., 0., 0., 0., 0., 0.,\n",
       "       0., 0., 0., 0., 0., 0., 0., 0., 0., 0., 0., 0., 0., 0., 0., 0., 0.,\n",
       "       0., 0., 0., 0., 0., 0., 0., 0., 0., 0., 0., 0., 0., 0., 0., 0., 0.,\n",
       "       0., 0., 0., 0., 0., 0., 0., 0., 0., 0., 0., 0., 0., 0., 0., 0., 0.,\n",
       "       0., 0., 0., 0., 0., 0., 0., 0., 0., 0., 0., 0., 0., 0., 0., 0., 0.,\n",
       "       0., 0., 0., 0., 0., 0., 0., 0., 0., 0., 0., 0., 0., 0., 0., 0., 0.,\n",
       "       0., 0., 0., 0., 0., 0., 0., 0., 0., 0., 0., 0., 0., 0., 0., 0., 0.,\n",
       "       0., 0., 0., 0., 0., 0., 0., 0., 0., 0., 0., 0., 0., 0., 0., 0., 0.,\n",
       "       0., 0., 0., 0., 0., 0., 0., 0., 0., 0., 0., 0., 0., 0., 0., 0., 0.,\n",
       "       0., 0., 0., 0., 0., 0., 0., 0., 0., 0., 0., 0., 0., 0., 0.],\n",
       "      dtype=float32)>"
      ]
     },
     "execution_count": 44,
     "metadata": {},
     "output_type": "execute_result"
    }
   ],
   "source": [
    "model.weights[1] # The bias of the frirt_model"
   ]
  },
  {
   "cell_type": "code",
   "execution_count": 45,
   "id": "a663634f",
   "metadata": {},
   "outputs": [
    {
     "data": {
      "text/plain": [
       "<tf.Variable 'Output_layer/kernel:0' shape=(236, 10) dtype=float32, numpy=\n",
       "array([[ 0.14643416, -0.1508775 , -0.13033435, ..., -0.11428295,\n",
       "         0.0530027 , -0.00350234],\n",
       "       [ 0.0628664 , -0.1208204 ,  0.03109673, ...,  0.14429772,\n",
       "        -0.03513383,  0.0239327 ],\n",
       "       [-0.13815707, -0.09980802,  0.06150022, ...,  0.04286182,\n",
       "         0.0407816 , -0.00475976],\n",
       "       ...,\n",
       "       [-0.11622389, -0.13440065,  0.10614663, ..., -0.10782488,\n",
       "        -0.02591905,  0.00462514],\n",
       "       [ 0.01984949, -0.06522329, -0.1355417 , ...,  0.14678264,\n",
       "         0.10474971, -0.10531169],\n",
       "       [-0.09870952,  0.09318571, -0.00451869, ...,  0.033163  ,\n",
       "        -0.0546818 , -0.03030564]], dtype=float32)>"
      ]
     },
     "execution_count": 45,
     "metadata": {},
     "output_type": "execute_result"
    }
   ],
   "source": [
    "model.weights[2] #the weights of the seond layer"
   ]
  },
  {
   "cell_type": "code",
   "execution_count": 46,
   "id": "0073528d",
   "metadata": {},
   "outputs": [
    {
     "data": {
      "text/plain": [
       "<tf.Variable 'Output_layer/bias:0' shape=(10,) dtype=float32, numpy=array([0., 0., 0., 0., 0., 0., 0., 0., 0., 0.], dtype=float32)>"
      ]
     },
     "execution_count": 46,
     "metadata": {},
     "output_type": "execute_result"
    }
   ],
   "source": [
    "model.weights[3] #the bias of the seond layer "
   ]
  },
  {
   "cell_type": "code",
   "execution_count": 47,
   "id": "73455c0e",
   "metadata": {},
   "outputs": [
    {
     "name": "stdout",
     "output_type": "stream",
     "text": [
      "Model: \"first_model\"\n",
      "_________________________________________________________________\n",
      " Layer (type)                Output Shape              Param #   \n",
      "=================================================================\n",
      " Flatten_layer (Flatten)     (None, 3072)              0         \n",
      "                                                                 \n",
      " Hidden_layer_1 (Dense)      (None, 236)               725228    \n",
      "                                                                 \n",
      " Output_layer (Dense)        (None, 10)                2370      \n",
      "                                                                 \n",
      "=================================================================\n",
      "Total params: 727,598\n",
      "Trainable params: 727,598\n",
      "Non-trainable params: 0\n",
      "_________________________________________________________________\n"
     ]
    }
   ],
   "source": [
    "model.summary() # Here we check more detils of the model"
   ]
  },
  {
   "cell_type": "markdown",
   "id": "9d3790fd",
   "metadata": {},
   "source": [
    "### The frist method to compile the models"
   ]
  },
  {
   "cell_type": "code",
   "execution_count": 48,
   "id": "ebae9506",
   "metadata": {},
   "outputs": [],
   "source": [
    "# Here we are going to compile the firdt model\n",
    "\n",
    "model.compile(optimizer='adam' , loss= \"sparse_categorical_crossentropy\" ,\n",
    "              metrics= [tf.keras.metrics.SparseCategoricalCrossentropy()]) \n"
   ]
  },
  {
   "cell_type": "markdown",
   "id": "d2f440f7",
   "metadata": {},
   "source": [
    "### The seond method to compile the models\n"
   ]
  },
  {
   "cell_type": "code",
   "execution_count": 49,
   "id": "9933a5a7",
   "metadata": {},
   "outputs": [],
   "source": [
    "# The seond method to compile the models\n",
    "\n",
    "#model.compile(optimizer=tf.keras.optimizers.Adam(learning_rate= 0.6) , loss= 'Sparse_Categorical_Crossentropy' ,\n",
    "            #  metrics= [tf.keras.metrics.SparseCategoricalCrossentropy()])\n"
   ]
  },
  {
   "cell_type": "code",
   "execution_count": 50,
   "id": "f1e92727",
   "metadata": {},
   "outputs": [
    {
     "name": "stdout",
     "output_type": "stream",
     "text": [
      "Epoch 1/10\n",
      "1563/1563 [==============================] - 19s 12ms/step - loss: 1.9000 - sparse_categorical_crossentropy: 1.9000\n",
      "Epoch 2/10\n",
      "1563/1563 [==============================] - 23s 15ms/step - loss: 1.7288 - sparse_categorical_crossentropy: 1.7288 2s - loss: 1.73\n",
      "Epoch 3/10\n",
      "1563/1563 [==============================] - 22s 14ms/step - loss: 1.6769 - sparse_categorical_crossentropy: 1.6769\n",
      "Epoch 4/10\n",
      "1563/1563 [==============================] - 19s 12ms/step - loss: 1.6512 - sparse_categorical_crossentropy: 1.6512\n",
      "Epoch 5/10\n",
      "1563/1563 [==============================] - 18s 11ms/step - loss: 1.6365 - sparse_categorical_crossentropy: 1.6365\n",
      "Epoch 6/10\n",
      "1563/1563 [==============================] - 17s 11ms/step - loss: 1.6200 - sparse_categorical_crossentropy: 1.6200\n",
      "Epoch 7/10\n",
      "1563/1563 [==============================] - 19s 12ms/step - loss: 1.6098 - sparse_categorical_crossentropy: 1.6098\n",
      "Epoch 8/10\n",
      "1563/1563 [==============================] - 17s 11ms/step - loss: 1.6018 - sparse_categorical_crossentropy: 1.6018\n",
      "Epoch 9/10\n",
      "1563/1563 [==============================] - 19s 12ms/step - loss: 1.5951 - sparse_categorical_crossentropy: 1.5951\n",
      "Epoch 10/10\n",
      "1563/1563 [==============================] - 19s 12ms/step - loss: 1.5888 - sparse_categorical_crossentropy: 1.5888\n"
     ]
    }
   ],
   "source": [
    "# in this step we set fit the model with train_images and y_train  datas and epochs= 10 , batch_size = 32\n",
    "\n",
    "\n",
    "history = model.fit(x = train_images , y = y_train , epochs= 10 , batch_size = 32)\n",
    "\n",
    "\n",
    "#num = 10000 # To save time, we fit the model with 10000 images\n",
    "#history = model.fit(x = train_images[:num] , y = y_train[:num] , epochs= 10 , batch_size = 32)\n"
   ]
  },
  {
   "cell_type": "code",
   "execution_count": 51,
   "id": "8d25e235",
   "metadata": {},
   "outputs": [
    {
     "name": "stdout",
     "output_type": "stream",
     "text": [
      "validation_data\n",
      "-----------\n",
      "None\n",
      "************\n",
      "model\n",
      "-----------\n",
      "<keras.engine.sequential.Sequential object at 0x000002A8C9BD2280>\n",
      "************\n",
      "_chief_worker_only\n",
      "-----------\n",
      "None\n",
      "************\n",
      "_supports_tf_logs\n",
      "-----------\n",
      "False\n",
      "************\n",
      "history\n",
      "-----------\n",
      "{'loss': [1.9000390768051147, 1.7288084030151367, 1.6768524646759033, 1.6511651277542114, 1.6364723443984985, 1.6200342178344727, 1.6097887754440308, 1.601794958114624, 1.5950515270233154, 1.5888303518295288], 'sparse_categorical_crossentropy': [1.9000390768051147, 1.7288084030151367, 1.6768524646759033, 1.6511651277542114, 1.6364723443984985, 1.6200342178344727, 1.6097887754440308, 1.601794958114624, 1.5950515270233154, 1.5888303518295288]}\n",
      "************\n",
      "params\n",
      "-----------\n",
      "{'verbose': 1, 'epochs': 10, 'steps': 1563}\n",
      "************\n",
      "epoch\n",
      "-----------\n",
      "[0, 1, 2, 3, 4, 5, 6, 7, 8, 9]\n",
      "************\n"
     ]
    }
   ],
   "source": [
    "# Here I want to see the training details  \n",
    "for k , v in history.__dict__.items():\n",
    "    print(k),\n",
    "    print('-----------'),\n",
    "    print(v),\n",
    "    print('************')"
   ]
  },
  {
   "cell_type": "code",
   "execution_count": 52,
   "id": "a3d460d5",
   "metadata": {},
   "outputs": [
    {
     "data": {
      "text/html": [
       "<div>\n",
       "<style scoped>\n",
       "    .dataframe tbody tr th:only-of-type {\n",
       "        vertical-align: middle;\n",
       "    }\n",
       "\n",
       "    .dataframe tbody tr th {\n",
       "        vertical-align: top;\n",
       "    }\n",
       "\n",
       "    .dataframe thead th {\n",
       "        text-align: right;\n",
       "    }\n",
       "</style>\n",
       "<table border=\"1\" class=\"dataframe\">\n",
       "  <thead>\n",
       "    <tr style=\"text-align: right;\">\n",
       "      <th></th>\n",
       "      <th>loss</th>\n",
       "      <th>sparse_categorical_crossentropy</th>\n",
       "    </tr>\n",
       "  </thead>\n",
       "  <tbody>\n",
       "    <tr>\n",
       "      <th>0</th>\n",
       "      <td>1.900039</td>\n",
       "      <td>1.900039</td>\n",
       "    </tr>\n",
       "    <tr>\n",
       "      <th>1</th>\n",
       "      <td>1.728808</td>\n",
       "      <td>1.728808</td>\n",
       "    </tr>\n",
       "    <tr>\n",
       "      <th>2</th>\n",
       "      <td>1.676852</td>\n",
       "      <td>1.676852</td>\n",
       "    </tr>\n",
       "    <tr>\n",
       "      <th>3</th>\n",
       "      <td>1.651165</td>\n",
       "      <td>1.651165</td>\n",
       "    </tr>\n",
       "    <tr>\n",
       "      <th>4</th>\n",
       "      <td>1.636472</td>\n",
       "      <td>1.636472</td>\n",
       "    </tr>\n",
       "    <tr>\n",
       "      <th>5</th>\n",
       "      <td>1.620034</td>\n",
       "      <td>1.620034</td>\n",
       "    </tr>\n",
       "    <tr>\n",
       "      <th>6</th>\n",
       "      <td>1.609789</td>\n",
       "      <td>1.609789</td>\n",
       "    </tr>\n",
       "    <tr>\n",
       "      <th>7</th>\n",
       "      <td>1.601795</td>\n",
       "      <td>1.601795</td>\n",
       "    </tr>\n",
       "    <tr>\n",
       "      <th>8</th>\n",
       "      <td>1.595052</td>\n",
       "      <td>1.595052</td>\n",
       "    </tr>\n",
       "    <tr>\n",
       "      <th>9</th>\n",
       "      <td>1.588830</td>\n",
       "      <td>1.588830</td>\n",
       "    </tr>\n",
       "  </tbody>\n",
       "</table>\n",
       "</div>"
      ],
      "text/plain": [
       "       loss  sparse_categorical_crossentropy\n",
       "0  1.900039                         1.900039\n",
       "1  1.728808                         1.728808\n",
       "2  1.676852                         1.676852\n",
       "3  1.651165                         1.651165\n",
       "4  1.636472                         1.636472\n",
       "5  1.620034                         1.620034\n",
       "6  1.609789                         1.609789\n",
       "7  1.601795                         1.601795\n",
       "8  1.595052                         1.595052\n",
       "9  1.588830                         1.588830"
      ]
     },
     "execution_count": 52,
     "metadata": {},
     "output_type": "execute_result"
    }
   ],
   "source": [
    "# We use pandas DataFrame to see loss and sparse_categorical_crossentropy\n",
    "df = pd.DataFrame(history.history)\n",
    "df"
   ]
  },
  {
   "cell_type": "code",
   "execution_count": 53,
   "id": "2c6007ec",
   "metadata": {},
   "outputs": [
    {
     "data": {
      "text/plain": [
       "[Text(0.5, 0, '#epoch'), Text(0, 0.5, 'loss')]"
      ]
     },
     "execution_count": 53,
     "metadata": {},
     "output_type": "execute_result"
    },
    {
     "data": {
      "image/png": "[encoded data removed]",
      "text/plain": [
       "<Figure size 432x288 with 1 Axes>"
      ]
     },
     "metadata": {
      "needs_background": "light"
     },
     "output_type": "display_data"
    }
   ],
   "source": [
    "#plot the pandas data frame\n",
    "what_to_see = 'loss'\n",
    "my_plot = df.plot(y=what_to_see , title = 'traning for 10 epochs', legend = what_to_see)\n",
    "my_plot.set(xlabel ='#epoch' , ylabel = what_to_see)"
   ]
  },
  {
   "cell_type": "code",
   "execution_count": 54,
   "id": "f748fa88",
   "metadata": {},
   "outputs": [
    {
     "data": {
      "text/plain": [
       "[Text(0.5, 0, '#epoch'), Text(0, 0.5, 'sparse_categorical_crossentropy')]"
      ]
     },
     "execution_count": 54,
     "metadata": {},
     "output_type": "execute_result"
    },
    {
     "data": {
      "image/png": "[encoded data removed]",
      "text/plain": [
       "<Figure size 432x288 with 1 Axes>"
      ]
     },
     "metadata": {
      "needs_background": "light"
     },
     "output_type": "display_data"
    }
   ],
   "source": [
    "#plot the pandas data frame\n",
    "what_to_see = 'sparse_categorical_crossentropy'\n",
    "my_plot = df.plot(y=what_to_see , title = 'traning for 10 epochs', legend = what_to_see)\n",
    "my_plot.set(xlabel ='#epoch' , ylabel = what_to_see)"
   ]
  },
  {
   "cell_type": "markdown",
   "id": "c3ae8134",
   "metadata": {},
   "source": [
    "### Prediction\n",
    "\n",
    "Here we take an image and try to predict its class using the first model"
   ]
  },
  {
   "cell_type": "code",
   "execution_count": 56,
   "id": "8f64011d",
   "metadata": {},
   "outputs": [
    {
     "data": {
      "image/png": "[encoded data removed]",
      "text/plain": [
       "<Figure size 432x288 with 1 Axes>"
      ]
     },
     "metadata": {
      "needs_background": "light"
     },
     "output_type": "display_data"
    },
    {
     "name": "stdout",
     "output_type": "stream",
     "text": [
      "Digit: 5 , lebel: dog\n"
     ]
    }
   ],
   "source": [
    "idx = 500\n",
    "\n",
    "tmp_image , tmp_image_digit , tmp_image_label = train_images[idx,...,1] , y_train[idx,0], labels[y_train[idx ,0]]#this is anindex for y_train\n",
    "#to slove the above porblem we used labels[y_train[idx ,0]] INSTED OF labels[y_train[idx ]]\n",
    "#i used here  y_train[idx,0] insted of  y_train[idx] to show the digit as a number not an array\n",
    "plt.imshow(tmp_image , cmap= 'gray')\n",
    "plt.show()\n",
    "\n",
    "print(f'Digit: {tmp_image_digit} , lebel: {tmp_image_label}')"
   ]
  },
  {
   "cell_type": "markdown",
   "id": "c47c764e",
   "metadata": {},
   "source": [
    "### Evaluateing the model\n"
   ]
  },
  {
   "cell_type": "code",
   "execution_count": 57,
   "id": "cfdd3925",
   "metadata": {},
   "outputs": [
    {
     "name": "stdout",
     "output_type": "stream",
     "text": [
      "313/313 [==============================] - 3s 6ms/step - loss: 1.5893 - sparse_categorical_crossentropy: 1.5893\n"
     ]
    }
   ],
   "source": [
    "test_labels =y_test[...,0]\n",
    "\n",
    "loss,metric = model.evaluate(test_images, y_test, batch_size=32, verbose=1)"
   ]
  },
  {
   "cell_type": "markdown",
   "id": "d342aacf",
   "metadata": {},
   "source": [
    "#Recall:\n",
    "\n",
    "train_images = x_train /255.\n",
    "\n",
    "test_images = x_test / 255.\n",
    "\n",
    "y_train = y_train \n",
    "\n",
    "y_test= y_test\n"
   ]
  },
  {
   "cell_type": "code",
   "execution_count": 61,
   "id": "4bbc21ba",
   "metadata": {},
   "outputs": [
    {
     "data": {
      "image/png": "[encoded data removed]",
      "text/plain": [
       "<Figure size 432x288 with 1 Axes>"
      ]
     },
     "metadata": {
      "needs_background": "light"
     },
     "output_type": "display_data"
    },
    {
     "name": "stdout",
     "output_type": "stream",
     "text": [
      "Digit: 9 , lebel: truck\n"
     ]
    }
   ],
   "source": [
    "#check some example\n",
    "idx = 14\n",
    "\n",
    "tmp_image = test_images[ idx]\n",
    "tmp_image_digit = y_test[idx,0]\n",
    "tmp_image_label = labels[y_test[idx,0]]\n",
    "plt.imshow(tmp_image , cmap= 'gray')\n",
    "plt.show()\n",
    "\n",
    "print(f'Digit: {tmp_image_digit} , lebel: {tmp_image_label}')\n",
    "\n",
    "#pred = model.predict(tmp_image)\n",
    "#print(pred)"
   ]
  },
  {
   "cell_type": "code",
   "execution_count": null,
   "id": "fd028d08",
   "metadata": {},
   "outputs": [],
   "source": []
  },
  {
   "cell_type": "code",
   "execution_count": null,
   "id": "ebc65727",
   "metadata": {},
   "outputs": [],
   "source": []
  },
  {
   "cell_type": "code",
   "execution_count": null,
   "id": "b38b75d0",
   "metadata": {},
   "outputs": [],
   "source": []
  }
 ],
 "metadata": {
  "kernelspec": {
   "display_name": "Python 3",
   "language": "python",
   "name": "python3"
  }
 },
 "nbformat": 4,
 "nbformat_minor": 5
}
